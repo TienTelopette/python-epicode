{
 "cells": [
  {
   "cell_type": "code",
   "execution_count": 1,
   "metadata": {},
   "outputs": [],
   "source": [
    "from bs4 import BeautifulSoup\n",
    "import pandas as pd\n",
    "from selenium import webdriver\n",
    "import requests\n",
    "from selenium.webdriver.chrome.options import Options\n",
    "\n",
    "\n",
    "BASE_URL = \"https://www.leonardoshoes.com\"\n",
    "CATEGORIES = [\"/collections/donna-calzature-mocassini\",\n",
    "              \"/collections/donna-calzature-decolte-tacchi\",\n",
    "              \"/collections/donna-calzature-sandali\",\n",
    "              \"/collections/donna-calzature-mules\",\n",
    "              \"/collections/donna-calzature-ballerine\",\n",
    "              \"/collections/donna-calzature-stivali-tronchetti\",\n",
    "              \"/collections/donna-calzature-sneakers\", \n",
    "              \"/collections/donna-calzature-sandali\",\n",
    "              \"/collections/donna-calzature-sandali?page=2\"\n",
    "              \"/collections/donna-sandali-tacco-alto\",\n",
    "              \"/collections/donna-sandali-tacco-basso\",\n",
    "              \"/collections/slingback\",\n",
    "              \"/collections/mocassini-da-barca\",\n",
    "              \"/collections/polacchine-donna-in-pelle-artigianali\"\n",
    "              ]\n",
    "\n",
    "################################################# N O T E S #####################################################\n",
    "#                    Requests library doesn't work on this website, use webdriver instead                       #\n",
    "#             Pages with more than 100 products need to be scraped with suffix ?page={number_of_page}           #\n",
    "#                  There are product names containing \",\" which can interfere with csv export                   #\n",
    "#################################################################################################################"
   ]
  },
  {
   "cell_type": "code",
   "execution_count": null,
   "metadata": {},
   "outputs": [],
   "source": [
    "df_leonardo = pd.DataFrame(columns = [\"nome\", \"categoria\", \"prezzo\", \"tacco\", \"taglie\", \"colore\", \"link\"])\n",
    "\n",
    "# Cicle through category pages\n",
    "for CAT in CATEGORIES:\n",
    "    url = BASE_URL + CAT\n",
    "    options = Options()\n",
    "    options.add_argument(\"--headless\")\n",
    "    driver = webdriver.Chrome(options)\n",
    "    driver.get(url)\n",
    "    page = driver.page_source\n",
    "    driver.quit()\n",
    "\n",
    "    bs = BeautifulSoup(page, 'html.parser')\n",
    "    links = bs.find_all(\"div\", class_ = \"h4 spf-product-card__title\")\n",
    "    l_shoe_links = []\n",
    "\n",
    "    # Cycle for taking the link, put into links\n",
    "    for link in links:\n",
    "        l_shoe_links.append(BASE_URL + link.a[\"href\"])\n",
    "    \n",
    "    # Cycle through every shoe's page\n",
    "    for shoe_link in l_shoe_links:\n",
    "        print(shoe_link)\n",
    "        response = requests.get(shoe_link)\n",
    "        bs_shoe = BeautifulSoup(response.content, 'html.parser') \n",
    "        product_name = bs_shoe.find(\"h1\").text.replace(\",\" , \"\") # Ci sono prodotti con una virgola, danno fastidio al csv\n",
    "        price = bs_shoe.find(\"span\", class_ = \"price price--large\").text.split(\"vendita\")[1] if bs_shoe.find(\"span\", class_ = \"price price--large\") else bs_shoe.find(\"span\", class_ = \"price price--highlight price--large\").text.split(\"vendita\")[1]\n",
    "        temp = bs_shoe.find_all(\"label\", class_ = \"block-swatch__item\")\n",
    "        sizes = []\n",
    "\n",
    "        for taglia in temp:\n",
    "            sizes.append(taglia.text)\n",
    "        sizes = \" \".join(sizes)\n",
    "        bs_details = bs_shoe.find_all(\"div\", class_ = \"product-tabs__tab-item-content rte\")[1]\n",
    "        details = bs_details.find_all(\"p\")\n",
    "        heel = details[6].text.replace(\" cm\", \"\").split(\": \")[1] if len(details) > 6 else \"NaN\"\n",
    "        color = details[0].text.split(\": \")[1]\n",
    "        \n",
    "        row = pd.Series({\n",
    "                        \"nome\": product_name, \n",
    "                        \"categoria\": CAT,\n",
    "                        \"prezzo\": price, \n",
    "                        \"tacco\": heel, \n",
    "                        \"taglie\": sizes, \n",
    "                        \"colore\": color,\n",
    "                        \"link\": shoe_link})\n",
    "        df = pd.DataFrame(row).T\n",
    "            \n",
    "        # Inserisco nuova riga\n",
    "        df_leonardo = pd.concat([df_leonardo, df])"
   ]
  },
  {
   "cell_type": "code",
   "execution_count": null,
   "metadata": {},
   "outputs": [
    {
     "data": {
      "text/plain": [
       "array(['/collections/donna-calzature-mocassini',\n",
       "       '/collections/donna-calzature-sandali',\n",
       "       '/collections/donna-calzature-mules',\n",
       "       '/collections/donna-calzature-ballerine',\n",
       "       '/collections/donna-calzature-stivali-tronchetti',\n",
       "       '/collections/donna-calzature-stivali',\n",
       "       '/collections/donna-calzature-stringate',\n",
       "       '/collections/donna-calzature-sandali?page=2/collections/donna-sandali-tacco-alto',\n",
       "       '/collections/donna-sandali-tacco-basso', '/collections/slingback',\n",
       "       '/collections/donna-stivali-texani',\n",
       "       '/collections/polacchine-donna-in-pelle-artigianali'], dtype=object)"
      ]
     },
     "execution_count": 31,
     "metadata": {},
     "output_type": "execute_result"
    }
   ],
   "source": [
    "df_leonardo[\"categoria\"].unique()"
   ]
  },
  {
   "cell_type": "code",
   "execution_count": null,
   "metadata": {},
   "outputs": [],
   "source": [
    "df_leonardo.to_csv(\"leonardo.csv\")"
   ]
  },
  {
   "cell_type": "code",
   "execution_count": null,
   "metadata": {},
   "outputs": [
    {
     "data": {
      "text/plain": [
       "nome         18\n",
       "categoria    18\n",
       "prezzo       18\n",
       "tacco        18\n",
       "taglie       18\n",
       "colore       18\n",
       "link         18\n",
       "dtype: int64"
      ]
     },
     "execution_count": 37,
     "metadata": {},
     "output_type": "execute_result"
    }
   ],
   "source": [
    "df_leonardo.loc[df_leonardo[\"categoria\"].str.contains(\"page\")].count()"
   ]
  },
  {
   "cell_type": "code",
   "execution_count": null,
   "metadata": {},
   "outputs": [
    {
     "data": {
      "text/html": [
       "<div>\n",
       "<style scoped>\n",
       "    .dataframe tbody tr th:only-of-type {\n",
       "        vertical-align: middle;\n",
       "    }\n",
       "\n",
       "    .dataframe tbody tr th {\n",
       "        vertical-align: top;\n",
       "    }\n",
       "\n",
       "    .dataframe thead th {\n",
       "        text-align: right;\n",
       "    }\n",
       "</style>\n",
       "<table border=\"1\" class=\"dataframe\">\n",
       "  <thead>\n",
       "    <tr style=\"text-align: right;\">\n",
       "      <th></th>\n",
       "      <th>nome</th>\n",
       "      <th>categoria</th>\n",
       "      <th>prezzo</th>\n",
       "      <th>tacco</th>\n",
       "      <th>taglie</th>\n",
       "      <th>colore</th>\n",
       "      <th>link</th>\n",
       "    </tr>\n",
       "  </thead>\n",
       "  <tbody>\n",
       "    <tr>\n",
       "      <th>0</th>\n",
       "      <td>Stivaletto anfibio da donna con dettagli brogu...</td>\n",
       "      <td>/collections/polacchine-donna-in-pelle-artigia...</td>\n",
       "      <td>€249,00</td>\n",
       "      <td>3</td>\n",
       "      <td>35 36 37 38 39 40 41</td>\n",
       "      <td>Nero</td>\n",
       "      <td>https://www.leonardoshoes.com/collections/pola...</td>\n",
       "    </tr>\n",
       "  </tbody>\n",
       "</table>\n",
       "</div>"
      ],
      "text/plain": [
       "                                                nome  \\\n",
       "0  Stivaletto anfibio da donna con dettagli brogu...   \n",
       "\n",
       "                                           categoria   prezzo tacco  \\\n",
       "0  /collections/polacchine-donna-in-pelle-artigia...  €249,00     3   \n",
       "\n",
       "                 taglie colore  \\\n",
       "0  35 36 37 38 39 40 41   Nero   \n",
       "\n",
       "                                                link  \n",
       "0  https://www.leonardoshoes.com/collections/pola...  "
      ]
     },
     "execution_count": 33,
     "metadata": {},
     "output_type": "execute_result"
    }
   ],
   "source": []
  }
 ],
 "metadata": {
  "kernelspec": {
   "display_name": "Python 3",
   "language": "python",
   "name": "python3"
  },
  "language_info": {
   "codemirror_mode": {
    "name": "ipython",
    "version": 3
   },
   "file_extension": ".py",
   "mimetype": "text/x-python",
   "name": "python",
   "nbconvert_exporter": "python",
   "pygments_lexer": "ipython3",
   "version": "3.9.13"
  }
 },
 "nbformat": 4,
 "nbformat_minor": 2
}
